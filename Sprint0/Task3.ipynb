{
 "cells": [
  {
   "cell_type": "markdown",
   "metadata": {},
   "source": [
    "<h1 style=\"color:DodgerBlue\">Индивидальный проект</h1>"
   ]
  },
  {
   "cell_type": "markdown",
   "metadata": {},
   "source": [
    "<h2 style=\"color:DodgerBlue\">Название проекта:</h2>\n",
    "\n",
    "----\n",
    "\n",
    "### Вариант задания 13\n"
   ]
  },
  {
   "cell_type": "markdown",
   "metadata": {},
   "source": [
    "<h2 style=\"color:DodgerBlue\">Описание проекта:</h2>\n",
    "\n",
    "----\n",
    "\n",
    "Создать базовый класс Inventory в C#, который будет представлять информацию о \n",
    "наличии товаров на складе. На основе этого класса разработать 2-3 производных \n",
    "класса, демонстрирующих принципы наследования и полиморфизма. В каждом из \n",
    "классов должны быть реализованы новые атрибуты и методы, а также \n",
    "переопределены некоторые методы базового класса для демонстрации \n",
    "полиморфизма.\n"
   ]
  },
  {
   "cell_type": "markdown",
   "metadata": {},
   "source": [
    "<h2 style=\"color:DodgerBlue\">Реализация:</h2>\n",
    "\n",
    "----"
   ]
  },
  {
   "cell_type": "code",
   "execution_count": 3,
   "metadata": {
    "dotnet_interactive": {
     "language": "csharp"
    },
    "polyglot_notebook": {
     "kernelName": "csharp"
    }
   },
   "outputs": [
    {
     "name": "stdout",
     "output_type": "stream",
     "text": [
      "--- Персональный склад ---\n",
      "Добавлено 10 единиц на склад Личный склад\n",
      "Склад Личный склад (ID=1): занято 10/30\n",
      "Владелец: Игорь\n",
      "--- Групповой склад ---\n",
      "Товары из группы: Электроника\n",
      "Добавлено 15 единиц на склад Групповой склад\n",
      "Склад Групповой склад (ID=2): занято 15/50\n",
      "--- Автоматизированный склад ---\n",
      "Добавлено 20 единиц на склад Автоматизированный склад\n",
      "Удаление с уровнем автоматизации 3\n",
      "Удалено 10 единиц со склада Автоматизированный склад\n",
      "Склад Автоматизированный склад (ID=3): занято 10/40\n"
     ]
    }
   ],
   "source": [
    "using System;\n",
    "\n",
    "// Базовый класс \"Склад\"\n",
    "public class Inventory\n",
    "{\n",
    "    public int WarehouseId;\n",
    "    public string WarehouseName;\n",
    "    public int StorageCapacity;\n",
    "    public int UsedCapacity; \n",
    "\n",
    "    public Inventory(int id, string name, int capacity)\n",
    "    {\n",
    "        WarehouseId = id;\n",
    "        WarehouseName = name;\n",
    "        StorageCapacity = capacity;\n",
    "        UsedCapacity = 0;\n",
    "    }\n",
    "\n",
    "    public virtual void GetStorageStatus()\n",
    "    {\n",
    "        Console.WriteLine($\"Склад {WarehouseName} (ID={WarehouseId}): занято {UsedCapacity}/{StorageCapacity}\");\n",
    "    }\n",
    "\n",
    "    public virtual void AddItem(int amount)\n",
    "    {\n",
    "        if (UsedCapacity + amount <= StorageCapacity)\n",
    "        {\n",
    "            UsedCapacity += amount;\n",
    "            Console.WriteLine($\"Добавлено {amount} единиц на склад {WarehouseName}\");\n",
    "        }\n",
    "        else\n",
    "        {\n",
    "            Console.WriteLine($\"Недостаточно места на складе {WarehouseName}\");\n",
    "        }\n",
    "    }\n",
    "\n",
    "    public virtual void RemoveItem(int amount)\n",
    "    {\n",
    "        if (amount <= UsedCapacity)\n",
    "        {\n",
    "            UsedCapacity -= amount;\n",
    "            Console.WriteLine($\"Удалено {amount} единиц со склада {WarehouseName}\");\n",
    "        }\n",
    "        else\n",
    "        {\n",
    "            Console.WriteLine($\"На складе {WarehouseName} нет столько товаров для удаления\");\n",
    "        }\n",
    "    }\n",
    "}\n",
    "\n",
    "// 1. Персональный склад\n",
    "public class PersonalInventory : Inventory\n",
    "{\n",
    "    public string OwnerName;\n",
    "\n",
    "    public PersonalInventory(int id, string name, int capacity, string owner)\n",
    "        : base(id, name, capacity)\n",
    "    {\n",
    "        OwnerName = owner;\n",
    "    }\n",
    "\n",
    "    public override void GetStorageStatus()\n",
    "    {\n",
    "        base.GetStorageStatus();\n",
    "        Console.WriteLine($\"Владелец: {OwnerName}\");\n",
    "    }\n",
    "}\n",
    "\n",
    "// 2. Групповой склад\n",
    "public class GroupInventory : Inventory\n",
    "{\n",
    "    public string ProductGroup;\n",
    "\n",
    "    public GroupInventory(int id, string name, int capacity, string group)\n",
    "        : base(id, name, capacity)\n",
    "    {\n",
    "        ProductGroup = group;\n",
    "    }\n",
    "\n",
    "    public override void AddItem(int amount)\n",
    "    {\n",
    "        Console.WriteLine($\"Товары из группы: {ProductGroup}\");\n",
    "        base.AddItem(amount);\n",
    "    }\n",
    "}\n",
    "\n",
    "// 3. Автоматизированный склад\n",
    "public class AutomatedInventory : Inventory\n",
    "{\n",
    "    public int AutomationLevel;\n",
    "\n",
    "    public AutomatedInventory(int id, string name, int capacity, int level)\n",
    "        : base(id, name, capacity)\n",
    "    {\n",
    "        AutomationLevel = level;\n",
    "    }\n",
    "\n",
    "    public override void RemoveItem(int amount)\n",
    "    {\n",
    "        Console.WriteLine($\"Удаление с уровнем автоматизации {AutomationLevel}\");\n",
    "        base.RemoveItem(amount);\n",
    "    }\n",
    "}\n",
    "\n",
    "// Основная программа\n",
    "\n",
    "PersonalInventory pInv = new PersonalInventory(1, \"Личный склад\", 30, \"Игорь\");\n",
    "GroupInventory gInv = new GroupInventory(2, \"Групповой склад\", 50, \"Электроника\");\n",
    "AutomatedInventory aInv = new AutomatedInventory(3, \"Автоматизированный склад\", 40, 3);\n",
    "\n",
    "Console.WriteLine(\"--- Персональный склад ---\");\n",
    "pInv.AddItem(10);\n",
    "pInv.GetStorageStatus();\n",
    "\n",
    "Console.WriteLine(\"--- Групповой склад ---\");\n",
    "gInv.AddItem(15);\n",
    "gInv.GetStorageStatus();\n",
    "\n",
    "Console.WriteLine(\"--- Автоматизированный склад ---\");\n",
    "aInv.AddItem(20);\n",
    "aInv.RemoveItem(10);\n",
    "aInv.GetStorageStatus();\n"
   ]
  }
 ],
 "metadata": {
  "kernelspec": {
   "display_name": ".NET (C#)",
   "language": "C#",
   "name": ".net-csharp"
  },
  "polyglot_notebook": {
   "kernelInfo": {
    "defaultKernelName": "csharp",
    "items": [
     {
      "aliases": [],
      "languageName": "csharp",
      "name": "csharp"
     }
    ]
   }
  }
 },
 "nbformat": 4,
 "nbformat_minor": 2
}
